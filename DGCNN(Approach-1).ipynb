{
 "cells": [
  {
   "cell_type": "code",
   "execution_count": 1,
   "id": "c445d860",
   "metadata": {
    "execution": {
     "iopub.execute_input": "2024-03-29T03:52:11.395334Z",
     "iopub.status.busy": "2024-03-29T03:52:11.394476Z",
     "iopub.status.idle": "2024-03-29T03:52:15.040625Z",
     "shell.execute_reply": "2024-03-29T03:52:15.039775Z"
    },
    "papermill": {
     "duration": 3.654355,
     "end_time": "2024-03-29T03:52:15.043139",
     "exception": false,
     "start_time": "2024-03-29T03:52:11.388784",
     "status": "completed"
    },
    "tags": []
   },
   "outputs": [],
   "source": [
    "import torch\n",
    "import numpy as np"
   ]
  },
  {
   "cell_type": "code",
   "execution_count": 2,
   "id": "472c122f",
   "metadata": {
    "execution": {
     "iopub.execute_input": "2024-03-29T03:52:15.053075Z",
     "iopub.status.busy": "2024-03-29T03:52:15.052652Z",
     "iopub.status.idle": "2024-03-29T03:52:15.203505Z",
     "shell.execute_reply": "2024-03-29T03:52:15.202483Z"
    },
    "papermill": {
     "duration": 0.158228,
     "end_time": "2024-03-29T03:52:15.205907",
     "exception": false,
     "start_time": "2024-03-29T03:52:15.047679",
     "status": "completed"
    },
    "tags": []
   },
   "outputs": [
    {
     "name": "stdout",
     "output_type": "stream",
     "text": [
      "torch.Size([3, 6, 100, 20])\n",
      "<class 'torch.Tensor'>\n"
     ]
    }
   ],
   "source": [
    "def knn(data, k=5)->torch.Tensor:\n",
    "    \"\"\"Construct edge feature for each point\n",
    "    Args:\n",
    "      point_cloud: (batch_size, num_points, num_dims)\n",
    "      k: int number of neighbours\n",
    "\n",
    "    Returns:\n",
    "      idx: shape:(batch_size, num_points, nums_neighours,)\n",
    "    \"\"\"\n",
    "    dists_matrix = torch.cdist(data, data)\n",
    "    #print(dists_matrix.shape)\n",
    "    _, idx = dists_matrix.topk(k+1, dim=-1, largest=False)  # +1 the point itself is included\n",
    "    return idx[...,1:] # not include the point itself\n",
    "\n",
    "\n",
    "\n",
    "def get_edge_feature(point_cloud, idx=None, k=20,device=\"cpu\"):\n",
    "    \"\"\"Construct edge feature for each point\n",
    "    Args:\n",
    "      point_cloud: (batch_size, num_points, num_dims)\n",
    "      idx: (batch_size, num_points, neighbours)\n",
    "      k: int\n",
    "      device: cpu/cuda\n",
    "\n",
    "    Returns:\n",
    "      features: (batch_size, num_dims ,num_points, k)\n",
    "    \"\"\"\n",
    "    point_cloud = point_cloud.to(device)\n",
    "    batch_size = point_cloud.shape[0]\n",
    "    num_points = point_cloud.shape[1]\n",
    "    num_dims = point_cloud.shape[2]\n",
    "    if(idx==None):\n",
    "        idx = knn(point_cloud,k=k) # (batch_size, num_points, nums_neighours,)\n",
    "\n",
    "    idx_base = torch.arange(0, batch_size, device=device).view(-1, 1, 1) * num_points # create the base index for mapping\n",
    "    idx = idx.to(device=device)\n",
    "    idx = idx + idx_base #[0...0...0]->[0...100...200]\n",
    "    idx=idx.view(-1) # flatten it -> tensor([  0,  56,  25,  ..., 225, 222, 271], device='cuda:0') e.g: [K01,K02,K03,K11,K12,K13...] shape = (B*N*K) \n",
    "   \n",
    "    num_dims = point_cloud.shape[2]\n",
    "\n",
    "    # feature : turn neighbour index in idx to coordinate\n",
    "    feature = point_cloud.view(batch_size*num_points, -1)[idx, :] # feature : B*N*F -> BN * F -> (B*N*K) * F\n",
    "    # feature : reshape into (Batch_size * Num_points *Nums_neigbours * Features)\n",
    "    feature = feature.view(batch_size, num_points, k, num_dims)\n",
    "    \n",
    "    # pointcloud : create replicate of the self point up to k for matching feature - size B*N*K(repeated)*F \n",
    "    point_cloud = point_cloud.view(batch_size, num_points, 1, num_dims).repeat(1, 1, k, 1) \n",
    "\n",
    "    # feature size B*N*K*F -> B*N*K*2F (feature-x || x)\n",
    "    point_To_Neighbour = feature - point_cloud\n",
    "\n",
    "    # Calculate the length (magnitude) of each vector\n",
    "    vector_lengths = torch.norm(point_To_Neighbour, dim=-1,keepdim=True)\n",
    "\n",
    "    max_neighbor_lengths, _ = torch.max(vector_lengths, dim=2, keepdim=True)\n",
    "    max_neighbor_lengths=max_neighbor_lengths.repeat(1, 1, k, num_dims)\n",
    "\n",
    "    normalized_point_To_Neighbour = point_To_Neighbour / max_neighbor_lengths\n",
    "\n",
    "    feature = torch.cat((normalized_point_To_Neighbour, point_cloud), dim=3)\n",
    "\n",
    "    # (B * 2F * N * K) for later conv each coordinate(F)\n",
    "    feature=feature.permute(0,3,1,2).contiguous()\n",
    "\n",
    "    return feature\n",
    "\n",
    "# Example usage:\n",
    "data = torch.rand((3,100, 3))  # 100 points in 20D (batch_size, num_points, num_dims)\n",
    "#neighbors = knn(data, k=4)\n",
    "edges= get_edge_feature(data)\n",
    "print(edges.shape)\n",
    "print(type(edges))"
   ]
  },
  {
   "cell_type": "markdown",
   "id": "487f27a2",
   "metadata": {
    "papermill": {
     "duration": 0.004327,
     "end_time": "2024-03-29T03:52:15.215003",
     "exception": false,
     "start_time": "2024-03-29T03:52:15.210676",
     "status": "completed"
    },
    "tags": []
   },
   "source": [
    "### **Edgeconv**"
   ]
  },
  {
   "cell_type": "code",
   "execution_count": 3,
   "id": "028bc606",
   "metadata": {
    "execution": {
     "iopub.execute_input": "2024-03-29T03:52:15.224461Z",
     "iopub.status.busy": "2024-03-29T03:52:15.224134Z",
     "iopub.status.idle": "2024-03-29T03:52:16.359132Z",
     "shell.execute_reply": "2024-03-29T03:52:16.358131Z"
    },
    "papermill": {
     "duration": 1.142301,
     "end_time": "2024-03-29T03:52:16.361334",
     "exception": false,
     "start_time": "2024-03-29T03:52:15.219033",
     "status": "completed"
    },
    "tags": []
   },
   "outputs": [
    {
     "name": "stdout",
     "output_type": "stream",
     "text": [
      "out.shape= torch.Size([3, 100, 64])\n"
     ]
    }
   ],
   "source": [
    "import torch\n",
    "import torch.nn as nn\n",
    "import torch.nn.functional as F\n",
    "\n",
    "class EdgeConv(nn.Module):\n",
    "    def __init__(self, in_channels, out_channels, num_neighbours=20,device=\"cpu\"):\n",
    "        \"\"\"Setup EdgeConv\n",
    "        Args:\n",
    "        in_channels: int\n",
    "        out_channels: int\n",
    "        num_neighbours: int\n",
    "        \"\"\"\n",
    "        super(EdgeConv, self).__init__()\n",
    "        self.device=device\n",
    "        self.k= num_neighbours\n",
    "        self.conv = nn.Sequential(\n",
    "            nn.Conv2d(in_channels=in_channels*2, out_channels=out_channels, kernel_size=1, bias=False,device=self.device),\n",
    "            nn.BatchNorm2d(out_channels,device=self.device),\n",
    "            nn.ReLU()\n",
    "        )\n",
    "\n",
    "    def forward(self,x):\n",
    "        \"\"\"Setup EdgeConv\n",
    "        Args:\n",
    "        x: shape - (batch_size, num_points, num_dims)\n",
    "\n",
    "        Returns:\n",
    "        features: (batch_size, num_dims, num_points, num_neigbours)\n",
    "        \"\"\"\n",
    "        x = get_edge_feature(x, k=self.k,device=self.device) #(batch_size, num_points, dim) -> (batch_size, dim*2, num_points ,k)\n",
    "        x = self.conv(x)\n",
    "        # for each point pick the largest k (batch_size, 64, num_points, k) -> (batch_size, 64, num_points)\n",
    "        x = x.max(dim=-1, keepdim=False)[0]\n",
    "        x = x.permute(0,2,1).contiguous()\n",
    "        return x\n",
    "    \n",
    "# Example usage:\n",
    "device = torch.device(\"cuda\" if torch.cuda.is_available() else \"cpu\")\n",
    "data = torch.rand((3,100, 3))  # 100 points in 20D (batch_size, num_points, num_dims)\n",
    "conv = EdgeConv(3, 64,device=device)\n",
    "out = conv(data)\n",
    "print(\"out.shape=\", out.shape)"
   ]
  },
  {
   "cell_type": "markdown",
   "id": "fb691144",
   "metadata": {
    "papermill": {
     "duration": 0.003854,
     "end_time": "2024-03-29T03:52:16.369260",
     "exception": false,
     "start_time": "2024-03-29T03:52:16.365406",
     "status": "completed"
    },
    "tags": []
   },
   "source": [
    "### **DGCNN (Classification)**"
   ]
  },
  {
   "cell_type": "code",
   "execution_count": 4,
   "id": "f3af0046",
   "metadata": {
    "execution": {
     "iopub.execute_input": "2024-03-29T03:52:16.378592Z",
     "iopub.status.busy": "2024-03-29T03:52:16.378290Z",
     "iopub.status.idle": "2024-03-29T03:52:16.508649Z",
     "shell.execute_reply": "2024-03-29T03:52:16.507724Z"
    },
    "papermill": {
     "duration": 0.137772,
     "end_time": "2024-03-29T03:52:16.510855",
     "exception": false,
     "start_time": "2024-03-29T03:52:16.373083",
     "status": "completed"
    },
    "tags": []
   },
   "outputs": [
    {
     "name": "stdout",
     "output_type": "stream",
     "text": [
      "data shape:  torch.Size([3, 100, 3])\n",
      "out.shape= torch.Size([3, 40])\n"
     ]
    }
   ],
   "source": [
    "class DGCNN(nn.Module):\n",
    "    def __init__(self, num_neighbours=20,out_channels=40,dropout_rate =0.3,device=\"cpu\"):\n",
    "        super(DGCNN,self).__init__()\n",
    "        self.edgeConv0 = EdgeConv(in_channels=3,out_channels=64,num_neighbours=num_neighbours,device=device)\n",
    "        self.edgeConv2 = EdgeConv(in_channels=64,out_channels=128,num_neighbours=num_neighbours,device=device)\n",
    "        self.edgeConv3 = EdgeConv(in_channels=128,out_channels=256,num_neighbours=num_neighbours,device=device)\n",
    "\n",
    "        self.edgeConv4 = EdgeConv(in_channels=448,out_channels=1024,num_neighbours=num_neighbours,device=device)\n",
    "\n",
    "        self.linear1 = nn.Linear(2048, 512, bias=False,device=device)\n",
    "        self.bn1 = nn.BatchNorm1d(512,device=device)\n",
    "        self.drop1 = nn.Dropout(dropout_rate)\n",
    "        self.linear2 = nn.Linear(512, 256, bias=False,device=device)\n",
    "        self.bn2 = nn.BatchNorm1d(256,device=device)\n",
    "        self.drop2 = nn.Dropout(dropout_rate)\n",
    "        self.linear3 = nn.Linear(256,out_channels, bias=False,device=device)\n",
    "\n",
    "\n",
    "    def forward(self,x):\n",
    "        x0=self.edgeConv0(x)\n",
    "        #print(\"x0:\",x0.shape)\n",
    "        #x1=self.edgeConv1(x0)\n",
    "        x2=self.edgeConv2(x0)\n",
    "        x3=self.edgeConv3(x2)\n",
    "\n",
    "        x=torch.cat((x0,x2,x3),dim=2)\n",
    "        \n",
    "        x= self.edgeConv4(x) # (batch_size, num_points ,64+64+128+256) -> (batch_size, num_points, emb_dims(1024))\n",
    "        \n",
    "        #todo \n",
    "        # maxpool and avgpool\n",
    "        x= x.permute(0,2,1).contiguous()\n",
    "        maxPoolX = F.adaptive_avg_pool1d(x,1).view(x.shape[0],-1)\n",
    "        avgPoolX = F.adaptive_avg_pool1d(x,1).view(x.shape[0],-1)\n",
    "        x=torch.cat((maxPoolX,avgPoolX),1) #(batch_size, 2048)\n",
    "        \n",
    "        #mlp[512,256,c(40)]\n",
    "        x= F.leaky_relu(self.bn1(self.linear1(x)))\n",
    "        x=self.drop1(x)\n",
    "        x= F.leaky_relu(self.bn2(self.linear2(x)))\n",
    "        x=self.drop2(x)\n",
    "        x= self.linear3(x)\n",
    "        # output\n",
    "\n",
    "        return x\n",
    "    \n",
    "# Example usage:\n",
    "device = torch.device(\"cuda\" if torch.cuda.is_available() else \"cpu\")\n",
    "data = torch.rand((3,100, 3))  # 100 points in 20D (batch_size, num_points, num_dims)\n",
    "print(\"data shape: \", data.shape)\n",
    "dgcnn = DGCNN(device=device)\n",
    "out = dgcnn(data)\n",
    "\n",
    "print(\"out.shape=\", out.shape)"
   ]
  },
  {
   "cell_type": "markdown",
   "id": "f73c78df",
   "metadata": {
    "papermill": {
     "duration": 0.004302,
     "end_time": "2024-03-29T03:52:16.519455",
     "exception": false,
     "start_time": "2024-03-29T03:52:16.515153",
     "status": "completed"
    },
    "tags": []
   },
   "source": [
    "## Dataset Part"
   ]
  },
  {
   "cell_type": "code",
   "execution_count": 5,
   "id": "222281ae",
   "metadata": {
    "execution": {
     "iopub.execute_input": "2024-03-29T03:52:16.528942Z",
     "iopub.status.busy": "2024-03-29T03:52:16.528600Z",
     "iopub.status.idle": "2024-03-29T03:53:02.512606Z",
     "shell.execute_reply": "2024-03-29T03:53:02.511530Z"
    },
    "papermill": {
     "duration": 45.991225,
     "end_time": "2024-03-29T03:53:02.514705",
     "exception": false,
     "start_time": "2024-03-29T03:52:16.523480",
     "status": "completed"
    },
    "tags": []
   },
   "outputs": [
    {
     "name": "stdout",
     "output_type": "stream",
     "text": [
      "False\n"
     ]
    },
    {
     "name": "stderr",
     "output_type": "stream",
     "text": [
      "WARNING: cannot verify shapenet.cs.stanford.edu's certificate, issued by 'CN=InCommon RSA Server CA,OU=InCommon,O=Internet2,L=Ann Arbor,ST=MI,C=US':\n",
      "  Issued certificate has expired.\n",
      "2024-03-29 03:52:56 URL:https://shapenet.cs.stanford.edu/media/modelnet40_ply_hdf5_2048.zip [435212151/435212151] -> \"modelnet40_ply_hdf5_2048.zip\" [1]\n"
     ]
    },
    {
     "name": "stdout",
     "output_type": "stream",
     "text": [
      "Archive:  modelnet40_ply_hdf5_2048.zip\n",
      "   creating: modelnet40_ply_hdf5_2048/\n",
      "  inflating: modelnet40_ply_hdf5_2048/ply_data_train_2_id2file.json  \n",
      "  inflating: modelnet40_ply_hdf5_2048/ply_data_train2.h5  \n",
      "  inflating: modelnet40_ply_hdf5_2048/ply_data_train4.h5  \n",
      "  inflating: modelnet40_ply_hdf5_2048/ply_data_train1.h5  \n",
      "  inflating: modelnet40_ply_hdf5_2048/train_files.txt  \n",
      "  inflating: modelnet40_ply_hdf5_2048/ply_data_train_4_id2file.json  \n",
      "  inflating: modelnet40_ply_hdf5_2048/ply_data_test1.h5  \n",
      "  inflating: modelnet40_ply_hdf5_2048/ply_data_test0.h5  \n",
      "  inflating: modelnet40_ply_hdf5_2048/ply_data_test_1_id2file.json  \n",
      "  inflating: modelnet40_ply_hdf5_2048/ply_data_train_1_id2file.json  \n",
      "  inflating: modelnet40_ply_hdf5_2048/ply_data_train_0_id2file.json  \n",
      "  inflating: modelnet40_ply_hdf5_2048/test_files.txt  \n",
      "  inflating: modelnet40_ply_hdf5_2048/ply_data_train0.h5  \n",
      "  inflating: modelnet40_ply_hdf5_2048/ply_data_test_0_id2file.json  \n",
      "  inflating: modelnet40_ply_hdf5_2048/shape_names.txt  \n",
      "  inflating: modelnet40_ply_hdf5_2048/ply_data_train3.h5  \n",
      "  inflating: modelnet40_ply_hdf5_2048/ply_data_train_3_id2file.json  \n",
      "True\n",
      "(1024, 3)\n",
      "(1,)\n"
     ]
    }
   ],
   "source": [
    "#todo DataSet -> use mobilenet 40\n",
    "\n",
    "import os\n",
    "import glob\n",
    "import h5py\n",
    "import numpy as np\n",
    "from torch.utils.data import Dataset\n",
    "\n",
    "def download_modelnet40():\n",
    "    BASE_DIR = os.getcwd()\n",
    "    DATA_DIR = os.path.join(BASE_DIR, 'data')\n",
    "    print(os.path.exists(os.path.join(DATA_DIR, 'modelnet40_ply_hdf5_2048')))\n",
    "    if not os.path.exists(DATA_DIR):\n",
    "        os.mkdir(DATA_DIR)\n",
    "    if not os.path.exists(os.path.join(DATA_DIR, 'modelnet40_ply_hdf5_2048')):\n",
    "        www = 'https://shapenet.cs.stanford.edu/media/modelnet40_ply_hdf5_2048.zip'\n",
    "        zipfile = os.path.basename(www)\n",
    "        os.system('wget --no-verbose --no-check-certificate %s; unzip %s' % (www, zipfile))\n",
    "        os.system('mv %s %s' % ('modelnet40_ply_hdf5_2048', DATA_DIR))\n",
    "        os.system('rm %s' % (zipfile))\n",
    "\n",
    "def load_data_cls(partition):\n",
    "    download_modelnet40()\n",
    "    BASE_DIR = os.getcwd()\n",
    "    DATA_DIR = os.path.join(BASE_DIR, 'data')\n",
    "    all_data = []\n",
    "    all_label = []\n",
    "    for h5_name in glob.glob(os.path.join(DATA_DIR, 'modelnet40_ply_hdf5_2048', '*%s*.h5'%partition)):\n",
    "        f = h5py.File(h5_name, 'r+')\n",
    "        data = f['data'][:].astype('float32')\n",
    "        label = f['label'][:].astype('int64')\n",
    "        f.close()\n",
    "        all_data.append(data)\n",
    "        all_label.append(label)\n",
    "    all_data = np.concatenate(all_data, axis=0)\n",
    "    all_label = np.concatenate(all_label, axis=0)\n",
    "    return all_data, all_label\n",
    "\n",
    "def translate_pointcloud(pointcloud):\n",
    "    xyz1 = np.random.uniform(low=2./3., high=3./2., size=[3])\n",
    "    xyz2 = np.random.uniform(low=-0.2, high=0.2, size=[3])\n",
    "       \n",
    "    translated_pointcloud = np.add(np.multiply(pointcloud, xyz1), xyz2).astype('float32')\n",
    "    return translated_pointcloud\n",
    "\n",
    "class ModelNet40(Dataset):\n",
    "    def __init__(self, num_points, partition='train'):\n",
    "        self.data, self.label = load_data_cls(partition)\n",
    "        self.num_points = num_points\n",
    "        self.partition = partition        \n",
    "\n",
    "    def __getitem__(self, item):\n",
    "        pointcloud = self.data[item][:self.num_points]\n",
    "        label = self.label[item]\n",
    "        if self.partition == 'train':\n",
    "            pointcloud = translate_pointcloud(pointcloud)\n",
    "            np.random.shuffle(pointcloud)\n",
    "        return pointcloud, label\n",
    "\n",
    "    def __len__(self):\n",
    "        return self.data.shape[0]\n",
    "    \n",
    "# use like this\n",
    "train = ModelNet40(1024)\n",
    "test = ModelNet40(1024, 'test')\n",
    "data, label = train[0]\n",
    "print(data.shape)\n",
    "print(label.shape)"
   ]
  },
  {
   "cell_type": "markdown",
   "id": "f1febe90",
   "metadata": {
    "papermill": {
     "duration": 0.004809,
     "end_time": "2024-03-29T03:53:02.524664",
     "exception": false,
     "start_time": "2024-03-29T03:53:02.519855",
     "status": "completed"
    },
    "tags": []
   },
   "source": [
    "## Training part"
   ]
  },
  {
   "cell_type": "code",
   "execution_count": 6,
   "id": "ad50ebb6",
   "metadata": {
    "execution": {
     "iopub.execute_input": "2024-03-29T03:53:02.536083Z",
     "iopub.status.busy": "2024-03-29T03:53:02.535717Z",
     "iopub.status.idle": "2024-03-29T09:20:16.946600Z",
     "shell.execute_reply": "2024-03-29T09:20:16.945541Z"
    },
    "papermill": {
     "duration": 19634.430787,
     "end_time": "2024-03-29T09:20:16.960429",
     "exception": false,
     "start_time": "2024-03-29T03:53:02.529642",
     "status": "completed"
    },
    "tags": []
   },
   "outputs": [
    {
     "name": "stdout",
     "output_type": "stream",
     "text": [
      "True\n",
      "True\n",
      "Train 0, loss: 2.575649, train acc: 0.477846, train avg acc: 0.297344\n",
      "Test 0, loss: 2.166077, test acc: 0.620340, test avg acc: 0.487442\n",
      "Train 1, loss: 2.198429, train acc: 0.626220, train avg acc: 0.461143\n",
      "Test 1, loss: 1.899676, test acc: 0.752026, test avg acc: 0.611791\n",
      "Train 2, loss: 2.070662, train acc: 0.680386, train avg acc: 0.541092\n",
      "Test 2, loss: 1.849285, test acc: 0.764182, test avg acc: 0.669279\n",
      "Train 3, loss: 2.006216, train acc: 0.709756, train avg acc: 0.577834\n",
      "Test 3, loss: 1.925178, test acc: 0.721637, test avg acc: 0.647099\n",
      "Train 4, loss: 1.949298, train acc: 0.732114, train avg acc: 0.610054\n",
      "Test 4, loss: 1.781420, test acc: 0.807131, test avg acc: 0.717890\n",
      "Train 5, loss: 1.926170, train acc: 0.746545, train avg acc: 0.634096\n",
      "Test 5, loss: 1.750851, test acc: 0.811994, test avg acc: 0.712448\n",
      "Train 6, loss: 1.885279, train acc: 0.763821, train avg acc: 0.654306\n",
      "Test 6, loss: 1.734046, test acc: 0.809968, test avg acc: 0.746930\n",
      "Train 7, loss: 1.869523, train acc: 0.772154, train avg acc: 0.664751\n",
      "Test 7, loss: 1.694896, test acc: 0.828201, test avg acc: 0.750512\n",
      "Train 8, loss: 1.844425, train acc: 0.782317, train avg acc: 0.678027\n",
      "Test 8, loss: 1.727881, test acc: 0.823744, test avg acc: 0.755762\n",
      "Train 9, loss: 1.836511, train acc: 0.781606, train avg acc: 0.676075\n",
      "Test 9, loss: 1.647855, test acc: 0.856564, test avg acc: 0.765058\n",
      "Train 10, loss: 1.798872, train acc: 0.804573, train avg acc: 0.709905\n",
      "Test 10, loss: 1.682509, test acc: 0.844408, test avg acc: 0.743151\n",
      "Train 11, loss: 1.798542, train acc: 0.801931, train avg acc: 0.702928\n",
      "Test 11, loss: 1.663195, test acc: 0.841167, test avg acc: 0.763023\n",
      "Train 12, loss: 1.781693, train acc: 0.811077, train avg acc: 0.718514\n",
      "Test 12, loss: 1.649744, test acc: 0.859806, test avg acc: 0.785762\n",
      "Train 13, loss: 1.770681, train acc: 0.816260, train avg acc: 0.726941\n",
      "Test 13, loss: 1.607813, test acc: 0.880065, test avg acc: 0.822930\n",
      "Train 14, loss: 1.748448, train acc: 0.818699, train avg acc: 0.730041\n",
      "Test 14, loss: 1.660832, test acc: 0.837925, test avg acc: 0.773657\n",
      "Train 15, loss: 1.746861, train acc: 0.826931, train avg acc: 0.740279\n",
      "Test 15, loss: 1.627895, test acc: 0.873177, test avg acc: 0.810174\n",
      "Train 16, loss: 1.729970, train acc: 0.834451, train avg acc: 0.749726\n",
      "Test 16, loss: 1.616522, test acc: 0.878444, test avg acc: 0.826012\n",
      "Train 17, loss: 1.720598, train acc: 0.835976, train avg acc: 0.755364\n",
      "Test 17, loss: 1.625898, test acc: 0.865073, test avg acc: 0.828593\n",
      "Train 18, loss: 1.718775, train acc: 0.834959, train avg acc: 0.753580\n",
      "Test 18, loss: 1.599183, test acc: 0.885332, test avg acc: 0.835721\n",
      "Train 19, loss: 1.710185, train acc: 0.840549, train avg acc: 0.756716\n",
      "Test 19, loss: 1.585406, test acc: 0.871556, test avg acc: 0.816936\n",
      "Train 20, loss: 1.703022, train acc: 0.847053, train avg acc: 0.770550\n",
      "Test 20, loss: 1.625432, test acc: 0.869935, test avg acc: 0.807157\n",
      "Train 21, loss: 1.699242, train acc: 0.844004, train avg acc: 0.768779\n",
      "Test 21, loss: 1.575827, test acc: 0.888169, test avg acc: 0.838227\n",
      "Train 22, loss: 1.685890, train acc: 0.851423, train avg acc: 0.773745\n",
      "Test 22, loss: 1.614660, test acc: 0.867909, test avg acc: 0.823924\n",
      "Train 23, loss: 1.685938, train acc: 0.850813, train avg acc: 0.779482\n",
      "Test 23, loss: 1.592718, test acc: 0.875203, test avg acc: 0.825017\n",
      "Train 24, loss: 1.684705, train acc: 0.851524, train avg acc: 0.776737\n",
      "Test 24, loss: 1.558186, test acc: 0.893841, test avg acc: 0.847134\n",
      "Train 25, loss: 1.678525, train acc: 0.853150, train avg acc: 0.781997\n",
      "Test 25, loss: 1.586810, test acc: 0.884117, test avg acc: 0.855640\n",
      "Train 26, loss: 1.673227, train acc: 0.858333, train avg acc: 0.786132\n",
      "Test 26, loss: 1.566155, test acc: 0.891005, test avg acc: 0.854808\n",
      "Train 27, loss: 1.667483, train acc: 0.859350, train avg acc: 0.788581\n",
      "Test 27, loss: 1.570831, test acc: 0.878039, test avg acc: 0.839029\n",
      "Train 28, loss: 1.665245, train acc: 0.859959, train avg acc: 0.792214\n",
      "Test 28, loss: 1.591945, test acc: 0.875608, test avg acc: 0.829070\n",
      "Train 29, loss: 1.650364, train acc: 0.865752, train avg acc: 0.801046\n",
      "Test 29, loss: 1.555810, test acc: 0.900729, test avg acc: 0.849512\n",
      "Train 30, loss: 1.649611, train acc: 0.864736, train avg acc: 0.796854\n",
      "Test 30, loss: 1.561904, test acc: 0.887763, test avg acc: 0.835733\n",
      "Train 31, loss: 1.640269, train acc: 0.872256, train avg acc: 0.807862\n",
      "Test 31, loss: 1.557149, test acc: 0.900324, test avg acc: 0.854965\n",
      "Train 32, loss: 1.644118, train acc: 0.867073, train avg acc: 0.800115\n",
      "Test 32, loss: 1.562753, test acc: 0.896272, test avg acc: 0.846919\n",
      "Train 33, loss: 1.642728, train acc: 0.870935, train avg acc: 0.806946\n",
      "Test 33, loss: 1.556124, test acc: 0.898703, test avg acc: 0.851721\n",
      "Train 34, loss: 1.643296, train acc: 0.866870, train avg acc: 0.799100\n",
      "Test 34, loss: 1.540993, test acc: 0.901540, test avg acc: 0.842215\n",
      "Train 35, loss: 1.637533, train acc: 0.871850, train avg acc: 0.810730\n",
      "Test 35, loss: 1.580157, test acc: 0.882091, test avg acc: 0.841738\n",
      "Train 36, loss: 1.636030, train acc: 0.870427, train avg acc: 0.806943\n",
      "Test 36, loss: 1.538656, test acc: 0.900324, test avg acc: 0.857599\n",
      "Train 37, loss: 1.630303, train acc: 0.874492, train avg acc: 0.809728\n",
      "Test 37, loss: 1.556639, test acc: 0.889789, test avg acc: 0.836314\n",
      "Train 38, loss: 1.623804, train acc: 0.877439, train avg acc: 0.812651\n",
      "Test 38, loss: 1.550597, test acc: 0.897083, test avg acc: 0.835174\n",
      "Train 39, loss: 1.623459, train acc: 0.875610, train avg acc: 0.815110\n",
      "Test 39, loss: 1.532689, test acc: 0.898703, test avg acc: 0.851337\n",
      "Train 40, loss: 1.619981, train acc: 0.882622, train avg acc: 0.822955\n",
      "Test 40, loss: 1.568182, test acc: 0.893436, test avg acc: 0.848762\n",
      "Train 41, loss: 1.621207, train acc: 0.878252, train avg acc: 0.820279\n",
      "Test 41, loss: 1.525944, test acc: 0.905592, test avg acc: 0.868424\n",
      "Train 42, loss: 1.617588, train acc: 0.881606, train avg acc: 0.824360\n",
      "Test 42, loss: 1.560783, test acc: 0.900729, test avg acc: 0.864081\n",
      "Train 43, loss: 1.618923, train acc: 0.878150, train avg acc: 0.819761\n",
      "Test 43, loss: 1.540598, test acc: 0.909643, test avg acc: 0.855797\n",
      "Train 44, loss: 1.612645, train acc: 0.883028, train avg acc: 0.827649\n",
      "Test 44, loss: 1.576839, test acc: 0.888574, test avg acc: 0.843308\n",
      "Train 45, loss: 1.611054, train acc: 0.882317, train avg acc: 0.826613\n",
      "Test 45, loss: 1.529104, test acc: 0.903971, test avg acc: 0.862541\n",
      "Train 46, loss: 1.603385, train acc: 0.889431, train avg acc: 0.830501\n",
      "Test 46, loss: 1.536451, test acc: 0.903971, test avg acc: 0.867343\n",
      "Train 47, loss: 1.614015, train acc: 0.880386, train avg acc: 0.822398\n",
      "Test 47, loss: 1.545940, test acc: 0.896677, test avg acc: 0.835965\n",
      "Train 48, loss: 1.606252, train acc: 0.882419, train avg acc: 0.827082\n",
      "Test 48, loss: 1.564755, test acc: 0.886953, test avg acc: 0.854093\n",
      "Train 49, loss: 1.603845, train acc: 0.888008, train avg acc: 0.834045\n",
      "Test 49, loss: 1.564832, test acc: 0.885332, test avg acc: 0.842174\n"
     ]
    },
    {
     "data": {
      "text/plain": [
       "0"
      ]
     },
     "execution_count": 6,
     "metadata": {},
     "output_type": "execute_result"
    }
   ],
   "source": [
    "#todo , not finish \n",
    "from torch.utils.data import DataLoader\n",
    "import os\n",
    "import torch.optim as optim\n",
    "from torch.optim.lr_scheduler import CosineAnnealingLR\n",
    "import sklearn.metrics as metrics\n",
    "def cal_loss(pred, gold, smoothing=True):\n",
    "    ''' Calculate cross entropy loss, apply label smoothing if needed. '''\n",
    "\n",
    "    gold = gold.contiguous().view(-1)\n",
    "\n",
    "    if smoothing:\n",
    "        eps = 0.2\n",
    "        n_class = pred.size(1)\n",
    "\n",
    "        one_hot = torch.zeros_like(pred).scatter(1, gold.view(-1, 1), 1)\n",
    "        one_hot = one_hot * (1 - eps) + (1 - one_hot) * eps / (n_class - 1)\n",
    "        log_prb = F.log_softmax(pred, dim=1)\n",
    "\n",
    "        loss = -(one_hot * log_prb).sum(dim=1).mean()\n",
    "    else:\n",
    "        loss = F.cross_entropy(pred, gold, reduction='mean')\n",
    "\n",
    "    return loss\n",
    "def train(model, epochs, _lr, numPoints,batchSize,device):\n",
    "    \"\"\"train\n",
    "        Args:\n",
    "        model: classifier\n",
    "        dataset: shape(batch_size,nums_point,dimemsion)\n",
    "        optimizerSelect:1 for SGD, 0 for Adam\n",
    "        epochs:train epochs\n",
    "        device:\n",
    "    \"\"\"\n",
    "    train_loader = DataLoader(ModelNet40(partition='train', num_points=numPoints), num_workers=4,\n",
    "                              batch_size=batchSize, shuffle=True, drop_last=True)\n",
    "    test_loader = DataLoader(ModelNet40(partition='test', num_points=numPoints), num_workers=4,\n",
    "                             batch_size=batchSize, shuffle=True, drop_last=False)\n",
    "\n",
    "\n",
    "    #Try to load models\n",
    "    model = nn.DataParallel(model)\n",
    "    opt = optim.Adam(model.parameters(), lr=_lr, weight_decay=1e-4)\n",
    "    scheduler = CosineAnnealingLR(opt, epochs, eta_min=_lr)\n",
    "    criterion = cal_loss\n",
    "    best_test_acc = 0\n",
    "    for epoch in range(epochs):\n",
    "        ####################\n",
    "        # Train\n",
    "        ####################\n",
    "        \n",
    "        train_loss = 0.0\n",
    "        count = 0.0\n",
    "        model.train()\n",
    "        train_pred = []\n",
    "        train_true = []\n",
    "        for data, label in train_loader:\n",
    "\n",
    "            data, label = data.to(device), label.to(device).squeeze()\n",
    "\n",
    "            batch_size = data.size()[0]\n",
    "            opt.zero_grad()\n",
    "            logits = model(data)\n",
    "            loss = criterion(logits, label)\n",
    "            loss.backward()\n",
    "            opt.step()\n",
    "            preds = logits.max(dim=1)[1]\n",
    "            count += batch_size\n",
    "            train_loss += loss.item() * batch_size\n",
    "            train_true.append(label.cpu().numpy())\n",
    "            train_pred.append(preds.detach().cpu().numpy())\n",
    "        \n",
    "        scheduler.step()\n",
    "        train_true = np.concatenate(train_true)\n",
    "        train_pred = np.concatenate(train_pred)\n",
    "        outstr = 'Train %d, loss: %.6f, train acc: %.6f, train avg acc: %.6f' % (epoch, train_loss*1.0/count, metrics.accuracy_score\n",
    "                                                    (train_true, train_pred),metrics.balanced_accuracy_score\n",
    "                                                    (train_true, train_pred))\n",
    "    \n",
    "        print(outstr)\n",
    "\n",
    "        ####################\n",
    "        # Test\n",
    "        ####################\n",
    "        test_loss = 0.0\n",
    "        count = 0.0\n",
    "        model.eval()\n",
    "        test_pred = []\n",
    "        test_true = []\n",
    "        for data, label in test_loader:\n",
    "            data, label = data.to(device), label.to(device).squeeze()\n",
    "            batch_size = data.size()[0]\n",
    "            logits = model(data)\n",
    "            loss = criterion(logits, label)\n",
    "            preds = logits.max(dim=1)[1]\n",
    "            count += batch_size\n",
    "            test_loss += loss.item() * batch_size\n",
    "            test_true.append(label.cpu().numpy())\n",
    "            test_pred.append(preds.detach().cpu().numpy())\n",
    "\n",
    "        test_true = np.concatenate(test_true)\n",
    "        test_pred = np.concatenate(test_pred)\n",
    "        test_acc = metrics.accuracy_score(test_true, test_pred)\n",
    "        avg_per_class_acc = metrics.balanced_accuracy_score(test_true, test_pred)\n",
    "        outstr = 'Test %d, loss: %.6f, test acc: %.6f, test avg acc: %.6f' % (epoch,test_loss*1.0/count,test_acc,avg_per_class_acc)\n",
    "        print(outstr)\n",
    "        if test_acc >= best_test_acc:\n",
    "            best_test_acc = test_acc\n",
    "            BASE_DIR = os.getcwd()\n",
    "            DATA_DIR = os.path.join(BASE_DIR, 'checkpoints')\n",
    "            if not os.path.exists(DATA_DIR):\n",
    "                os.mkdir(DATA_DIR)\n",
    "                os.mkdir(os.path.join(DATA_DIR, 'models'))\n",
    "            torch.save(model.state_dict(), 'checkpoints/models/model.t7')    \n",
    "    \n",
    "    \n",
    "    return 0\n",
    "\n",
    "device = torch.device(\"cuda\" if torch.cuda.is_available() else \"cpu\")\n",
    "model=DGCNN(device=device).to(device)\n",
    "train(model,50,0.001,1024,8,device)"
   ]
  },
  {
   "cell_type": "markdown",
   "id": "c3a8248e",
   "metadata": {
    "papermill": {
     "duration": 0.012307,
     "end_time": "2024-03-29T09:20:16.985360",
     "exception": false,
     "start_time": "2024-03-29T09:20:16.973053",
     "status": "completed"
    },
    "tags": []
   },
   "source": [
    "## Run Code"
   ]
  },
  {
   "cell_type": "code",
   "execution_count": 7,
   "id": "cf0f71bd",
   "metadata": {
    "execution": {
     "iopub.execute_input": "2024-03-29T09:20:17.012246Z",
     "iopub.status.busy": "2024-03-29T09:20:17.011629Z",
     "iopub.status.idle": "2024-03-29T09:20:17.016616Z",
     "shell.execute_reply": "2024-03-29T09:20:17.015752Z"
    },
    "papermill": {
     "duration": 0.020822,
     "end_time": "2024-03-29T09:20:17.018603",
     "exception": false,
     "start_time": "2024-03-29T09:20:16.997781",
     "status": "completed"
    },
    "tags": []
   },
   "outputs": [],
   "source": [
    "## Excute DGCNN\n"
   ]
  }
 ],
 "metadata": {
  "kaggle": {
   "accelerator": "gpu",
   "dataSources": [],
   "dockerImageVersionId": 30673,
   "isGpuEnabled": true,
   "isInternetEnabled": true,
   "language": "python",
   "sourceType": "notebook"
  },
  "kernelspec": {
   "display_name": "Python 3",
   "language": "python",
   "name": "python3"
  },
  "language_info": {
   "codemirror_mode": {
    "name": "ipython",
    "version": 3
   },
   "file_extension": ".py",
   "mimetype": "text/x-python",
   "name": "python",
   "nbconvert_exporter": "python",
   "pygments_lexer": "ipython3",
   "version": "3.10.13"
  },
  "papermill": {
   "default_parameters": {},
   "duration": 19690.884275,
   "end_time": "2024-03-29T09:20:19.503072",
   "environment_variables": {},
   "exception": null,
   "input_path": "__notebook__.ipynb",
   "output_path": "__notebook__.ipynb",
   "parameters": {},
   "start_time": "2024-03-29T03:52:08.618797",
   "version": "2.5.0"
  }
 },
 "nbformat": 4,
 "nbformat_minor": 5
}
