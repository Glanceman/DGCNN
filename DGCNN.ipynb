{
 "cells": [
  {
   "cell_type": "code",
   "execution_count": 1,
   "metadata": {},
   "outputs": [],
   "source": [
    "import torch\n",
    "import numpy as np"
   ]
  },
  {
   "cell_type": "code",
   "execution_count": 2,
   "metadata": {},
   "outputs": [
    {
     "name": "stdout",
     "output_type": "stream",
     "text": [
      "torch.Size([3, 6, 100, 20])\n",
      "<class 'torch.Tensor'>\n"
     ]
    }
   ],
   "source": [
    "def knn(data, k=5)->torch.Tensor:\n",
    "    \"\"\"Construct edge feature for each point\n",
    "    Args:\n",
    "      point_cloud: (batch_size, num_points, num_dims)\n",
    "      k: int number of neighbours\n",
    "\n",
    "    Returns:\n",
    "      idx: shape:(batch_size, num_points, nums_neighours,)\n",
    "    \"\"\"\n",
    "    dists_matrix = torch.cdist(data, data)\n",
    "    #print(dists_matrix.shape)\n",
    "    _, idx = dists_matrix.topk(k+1, dim=-1, largest=False)  # +1 the point itself is included\n",
    "    return idx[...,1:] # not include the point itself\n",
    "\n",
    "\n",
    "\n",
    "def get_edge_feature(point_cloud, idx=None, k=20,device=\"cpu\"):\n",
    "    \"\"\"Construct edge feature for each point\n",
    "    Args:\n",
    "      point_cloud: (batch_size, num_points, num_dims)\n",
    "      idx: (batch_size, num_points, neighbours)\n",
    "      k: int\n",
    "      device: cpu/cuda\n",
    "\n",
    "    Returns:\n",
    "      features: (batch_size, num_dims ,num_points, k)\n",
    "    \"\"\"\n",
    "    point_cloud = point_cloud.to(device)\n",
    "    batch_size = point_cloud.shape[0]\n",
    "    num_points = point_cloud.shape[1]\n",
    "\n",
    "    if(idx==None):\n",
    "        idx = knn(point_cloud,k=k) # (batch_size, num_points, nums_neighours,)\n",
    "\n",
    "    idx_base = torch.arange(0, batch_size, device=device).view(-1, 1, 1) * num_points # create the base index for mapping\n",
    "    idx = idx.to(device=device)\n",
    "    idx = idx + idx_base #[0...0...0]->[0...100...200]\n",
    "    idx=idx.view(-1) # flatten it -> tensor([  0,  56,  25,  ..., 225, 222, 271], device='cuda:0') e.g: [K01,K02,K03,K11,K12,K13...] shape = (B*N*K) \n",
    "   \n",
    "    num_dims = point_cloud.shape[2]\n",
    "\n",
    "    # feature : turn neighbour index in idx to coordinate\n",
    "    feature = point_cloud.view(batch_size*num_points, -1)[idx, :] # feature : B*N*F -> BN * F -> (B*N*K) * F\n",
    "    # feature : reshape into (Batch_size * Num_points *Nums_neigbours * Features)\n",
    "    feature = feature.view(batch_size, num_points, k, num_dims)\n",
    "    \n",
    "    # pointcloud : create replicate of the self point up to k for matching feature - size B*N*K(repeated)*F \n",
    "    point_cloud = point_cloud.view(batch_size, num_points, 1, num_dims).repeat(1, 1, k, 1) \n",
    "\n",
    "    # feature size B*N*K*F -> B*N*K*2F (feature-x || x)\n",
    "    feature = torch.cat((feature-point_cloud, point_cloud), dim=3)\n",
    "\n",
    "    # (B * 2F * N * K) for later conv each coordinate(F)\n",
    "    feature=feature.permute(0,3,1,2).contiguous()\n",
    "\n",
    "    return feature\n",
    "\n",
    "# Example usage:\n",
    "data = torch.rand((3,100, 3))  # 100 points in 20D (batch_size, num_points, num_dims)\n",
    "#neighbors = knn(data, k=4)\n",
    "edges= get_edge_feature(data)\n",
    "print(edges.shape)\n",
    "print(type(edges))"
   ]
  },
  {
   "cell_type": "markdown",
   "metadata": {},
   "source": [
    "### **Edgeconv**"
   ]
  },
  {
   "cell_type": "code",
   "execution_count": 3,
   "metadata": {},
   "outputs": [
    {
     "name": "stdout",
     "output_type": "stream",
     "text": [
      "out.shape= torch.Size([3, 100, 64])\n"
     ]
    }
   ],
   "source": [
    "import torch\n",
    "import torch.nn as nn\n",
    "import torch.nn.functional as F\n",
    "\n",
    "class EdgeConv(nn.Module):\n",
    "    def __init__(self, in_channels, out_channels, num_neighbours=20,device=\"cpu\"):\n",
    "        \"\"\"Setup EdgeConv\n",
    "        Args:\n",
    "        in_channels: int\n",
    "        out_channels: int\n",
    "        num_neighbours: int\n",
    "        \"\"\"\n",
    "        super(EdgeConv, self).__init__()\n",
    "        self.device=device\n",
    "        self.k= num_neighbours\n",
    "        self.conv = nn.Sequential(\n",
    "            nn.Conv2d(in_channels=in_channels*2, out_channels=out_channels, kernel_size=1, bias=False,device=self.device),\n",
    "            nn.BatchNorm2d(out_channels,device=self.device),\n",
    "            nn.LeakyReLU(negative_slope=0.2)\n",
    "        )\n",
    "\n",
    "    def forward(self,x):\n",
    "        \"\"\"Setup EdgeConv\n",
    "        Args:\n",
    "        x: shape - (batch_size, num_points, num_dims)\n",
    "\n",
    "        Returns:\n",
    "        features: (batch_size, num_dims, num_points, num_neigbours)\n",
    "        \"\"\"\n",
    "        x = get_edge_feature(x, k=self.k,device=self.device) #(batch_size, num_points, dim) -> (batch_size, dim*2, num_points ,k)\n",
    "        x = self.conv(x)\n",
    "        # for each point pick the largest k (batch_size, 64, num_points, k) -> (batch_size, 64, num_points)\n",
    "        x = x.max(dim=-1, keepdim=False)[0]\n",
    "        x = x.permute(0,2,1).contiguous()\n",
    "        return x\n",
    "    \n",
    "# Example usage:\n",
    "device = torch.device(\"cuda\" if torch.cuda.is_available() else \"cpu\")\n",
    "data = torch.rand((3,100, 3))  # 100 points in 20D (batch_size, num_points, num_dims)\n",
    "conv = EdgeConv(3, 64,device=device)\n",
    "out = conv(data)\n",
    "print(\"out.shape=\", out.shape)"
   ]
  },
  {
   "cell_type": "markdown",
   "metadata": {},
   "source": [
    "### **DGCNN (Classification)**"
   ]
  },
  {
   "cell_type": "code",
   "execution_count": 11,
   "metadata": {},
   "outputs": [
    {
     "name": "stdout",
     "output_type": "stream",
     "text": [
      "data shape:  torch.Size([3, 100, 3])\n",
      "temp: torch.Size([3, 1024])\n",
      "out.shape= torch.Size([3, 40])\n"
     ]
    }
   ],
   "source": [
    "class DGCNN(nn.Module):\n",
    "    def __init__(self, num_neighbours=20,out_channels=40,dropout_rate =0.3,device=\"cpu\"):\n",
    "        super(DGCNN,self).__init__()\n",
    "        self.inChannels=[3,64,64,128,256]\n",
    "        self.edgeConv0 = EdgeConv(in_channels=3,out_channels=64)\n",
    "        self.edgeConv1 = EdgeConv(in_channels=64,out_channels=64)\n",
    "        self.edgeConv2 = EdgeConv(in_channels=64,out_channels=128)\n",
    "        self.edgeConv3 = EdgeConv(in_channels=128,out_channels=256)\n",
    "\n",
    "        self.edgeConv4 = EdgeConv(in_channels=512,out_channels=1024)\n",
    "\n",
    "        self.linear1 = nn.Linear(2048, 512, bias=False)\n",
    "        self.bn1 = nn.BatchNorm1d(512)\n",
    "        self.drop1 = nn.Dropout(dropout_rate)\n",
    "        self.linear2 = nn.Linear(512, 256, bias=False)\n",
    "        self.bn2 = nn.BatchNorm1d(256)\n",
    "        self.drop2 = nn.Dropout(dropout_rate)\n",
    "        self.linear3 = nn.Linear(256,out_channels, bias=False)\n",
    "\n",
    "\n",
    "    def forward(self,x):\n",
    "        x0=self.edgeConv0(x)\n",
    "        #print(\"x0:\",x0.shape)\n",
    "        x1=self.edgeConv1(x0)\n",
    "        x2=self.edgeConv2(x1)\n",
    "        x3=self.edgeConv3(x2)\n",
    "\n",
    "        x=torch.cat((x0,x1,x2,x3),dim=2)\n",
    "        \n",
    "        x= self.edgeConv4(x) # (batch_size, num_points ,64+64+128+256) -> (batch_size, num_points, emb_dims(1024))\n",
    "        \n",
    "        #todo \n",
    "        # maxpool and avgpool\n",
    "        x= x.permute(0,2,1).contiguous()\n",
    "        maxPoolX = F.adaptive_avg_pool1d(x,1).view(x.shape[0],-1)\n",
    "        avgPoolX = F.adaptive_avg_pool1d(x,1).view(x.shape[0],-1)\n",
    "        print(\"temp:\", maxPoolX.shape)\n",
    "        x=torch.cat((maxPoolX,avgPoolX),1) #(batch_size, 2048)\n",
    "        \n",
    "        #mlp[512,256,c(40)]\n",
    "        x= F.leaky_relu(self.bn1(self.linear1(x)))\n",
    "        x=self.drop1(x)\n",
    "        x= F.leaky_relu(self.bn2(self.linear2(x)))\n",
    "        x=self.drop2(x)\n",
    "        x= self.linear3(x)\n",
    "        # output\n",
    "\n",
    "        return x\n",
    "    \n",
    "# Example usage:\n",
    "device = torch.device(\"cuda\" if torch.cuda.is_available() else \"cpu\")\n",
    "data = torch.rand((3,100, 3))  # 100 points in 20D (batch_size, num_points, num_dims)\n",
    "print(\"data shape: \", data.shape)\n",
    "dgcnn = DGCNN(device=device)\n",
    "out = dgcnn(data)\n",
    "\n",
    "print(\"out.shape=\", out.shape)"
   ]
  },
  {
   "cell_type": "markdown",
   "metadata": {},
   "source": [
    "## Training part"
   ]
  },
  {
   "cell_type": "code",
   "execution_count": null,
   "metadata": {},
   "outputs": [],
   "source": [
    "def train(model, dataset):\n",
    "    return 0"
   ]
  }
 ],
 "metadata": {
  "kernelspec": {
   "display_name": "base",
   "language": "python",
   "name": "python3"
  },
  "language_info": {
   "codemirror_mode": {
    "name": "ipython",
    "version": 3
   },
   "file_extension": ".py",
   "mimetype": "text/x-python",
   "name": "python",
   "nbconvert_exporter": "python",
   "pygments_lexer": "ipython3",
   "version": "3.11.5"
  }
 },
 "nbformat": 4,
 "nbformat_minor": 2
}
