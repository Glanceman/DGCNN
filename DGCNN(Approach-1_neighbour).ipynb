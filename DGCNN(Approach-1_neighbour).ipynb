{
 "cells": [
  {
   "cell_type": "code",
   "execution_count": 1,
   "id": "9a1930ba",
   "metadata": {
    "execution": {
     "iopub.execute_input": "2024-04-02T06:32:33.708635Z",
     "iopub.status.busy": "2024-04-02T06:32:33.708053Z",
     "iopub.status.idle": "2024-04-02T06:32:37.095639Z",
     "shell.execute_reply": "2024-04-02T06:32:37.094851Z"
    },
    "papermill": {
     "duration": 3.395676,
     "end_time": "2024-04-02T06:32:37.098030",
     "exception": false,
     "start_time": "2024-04-02T06:32:33.702354",
     "status": "completed"
    },
    "tags": []
   },
   "outputs": [],
   "source": [
    "import torch\n",
    "import numpy as np"
   ]
  },
  {
   "cell_type": "code",
   "execution_count": 2,
   "id": "4ac745dc",
   "metadata": {
    "execution": {
     "iopub.execute_input": "2024-04-02T06:32:37.107772Z",
     "iopub.status.busy": "2024-04-02T06:32:37.107363Z",
     "iopub.status.idle": "2024-04-02T06:32:37.243870Z",
     "shell.execute_reply": "2024-04-02T06:32:37.242871Z"
    },
    "papermill": {
     "duration": 0.144332,
     "end_time": "2024-04-02T06:32:37.246636",
     "exception": false,
     "start_time": "2024-04-02T06:32:37.102304",
     "status": "completed"
    },
    "tags": []
   },
   "outputs": [
    {
     "name": "stdout",
     "output_type": "stream",
     "text": [
      "torch.Size([3, 3, 100, 20])\n",
      "<class 'torch.Tensor'>\n"
     ]
    }
   ],
   "source": [
    "def knn(data, k=5)->torch.Tensor:\n",
    "    \"\"\"Construct edge feature for each point\n",
    "    Args:\n",
    "      point_cloud: (batch_size, num_points, num_dims)\n",
    "      k: int number of neighbours\n",
    "\n",
    "    Returns:\n",
    "      idx: shape:(batch_size, num_points, nums_neighours,)\n",
    "    \"\"\"\n",
    "    dists_matrix = torch.cdist(data, data)\n",
    "    #print(dists_matrix.shape)\n",
    "    _, idx = dists_matrix.topk(k+1, dim=-1, largest=False)  # +1 the point itself is included\n",
    "    return idx[...,1:] # not include the point itself\n",
    "\n",
    "\n",
    "\n",
    "def get_edge_feature(point_cloud, idx=None, k=20,device=\"cpu\"):\n",
    "    \"\"\"Construct edge feature for each point\n",
    "    Args:\n",
    "      point_cloud: (batch_size, num_points, num_dims)\n",
    "      idx: (batch_size, num_points, neighbours)\n",
    "      k: int\n",
    "      device: cpu/cuda\n",
    "\n",
    "    Returns:\n",
    "      features: (batch_size, num_dims ,num_points, k)\n",
    "    \"\"\"\n",
    "    point_cloud = point_cloud.to(device)\n",
    "    batch_size = point_cloud.shape[0]\n",
    "    num_points = point_cloud.shape[1]\n",
    "    num_dims = point_cloud.shape[2]\n",
    "    if(idx==None):\n",
    "        idx = knn(point_cloud,k=k) # (batch_size, num_points, nums_neighours,)\n",
    "\n",
    "    idx_base = torch.arange(0, batch_size, device=device).view(-1, 1, 1) * num_points # create the base index for mapping\n",
    "    idx = idx.to(device=device)\n",
    "    idx = idx + idx_base #[0...0...0]->[0...100...200]\n",
    "    idx=idx.view(-1) # flatten it -> tensor([  0,  56,  25,  ..., 225, 222, 271], device='cuda:0') e.g: [K01,K02,K03,K11,K12,K13...] shape = (B*N*K) \n",
    "   \n",
    "    num_dims = point_cloud.shape[2]\n",
    "\n",
    "    # feature : turn neighbour index in idx to coordinate\n",
    "    feature = point_cloud.view(batch_size*num_points, -1)[idx, :] # feature : B*N*F -> BN * F -> (B*N*K) * F\n",
    "    # feature : reshape into (Batch_size * Num_points *Nums_neigbours * Features)\n",
    "    feature = feature.view(batch_size, num_points, k, num_dims)\n",
    "    \n",
    "    # pointcloud : create replicate of the self point up to k for matching feature - size B*N*K(repeated)*F \n",
    "    point_cloud = point_cloud.view(batch_size, num_points, 1, num_dims).repeat(1, 1, k, 1) \n",
    "\n",
    "    # feature size B*N*K*F -> B*N*K*2F (feature-x || x)\n",
    "    point_To_Neighbour = feature - point_cloud\n",
    "\n",
    "    # Calculate the length (magnitude) of each vector\n",
    "    vector_lengths = torch.norm(point_To_Neighbour, dim=-1,keepdim=True)\n",
    "\n",
    "    max_neighbor_lengths, _ = torch.max(vector_lengths, dim=2, keepdim=True)\n",
    "    max_neighbor_lengths=max_neighbor_lengths.repeat(1, 1, k, num_dims)\n",
    "\n",
    "    normalized_point_To_Neighbour = point_To_Neighbour / max_neighbor_lengths\n",
    "\n",
    "    #feature = torch.cat((normalized_point_To_Neighbour, point_cloud), dim=3)\n",
    "    feature=normalized_point_To_Neighbour\n",
    "    # (B * 2F * N * K) for later conv each coordinate(F)\n",
    "    feature=feature.permute(0,3,1,2).contiguous()\n",
    "\n",
    "    return feature\n",
    "\n",
    "# Example usage:\n",
    "data = torch.rand((3,100, 3))  # 100 points in 20D (batch_size, num_points, num_dims)\n",
    "#neighbors = knn(data, k=4)\n",
    "edges= get_edge_feature(data)\n",
    "print(edges.shape)\n",
    "print(type(edges))"
   ]
  },
  {
   "cell_type": "markdown",
   "id": "e12bb157",
   "metadata": {
    "papermill": {
     "duration": 0.003618,
     "end_time": "2024-04-02T06:32:37.254694",
     "exception": false,
     "start_time": "2024-04-02T06:32:37.251076",
     "status": "completed"
    },
    "tags": []
   },
   "source": [
    "### **Edgeconv**"
   ]
  },
  {
   "cell_type": "code",
   "execution_count": 3,
   "id": "31914bab",
   "metadata": {
    "execution": {
     "iopub.execute_input": "2024-04-02T06:32:37.263690Z",
     "iopub.status.busy": "2024-04-02T06:32:37.263141Z",
     "iopub.status.idle": "2024-04-02T06:32:38.342630Z",
     "shell.execute_reply": "2024-04-02T06:32:38.341733Z"
    },
    "papermill": {
     "duration": 1.08671,
     "end_time": "2024-04-02T06:32:38.345125",
     "exception": false,
     "start_time": "2024-04-02T06:32:37.258415",
     "status": "completed"
    },
    "tags": []
   },
   "outputs": [
    {
     "name": "stdout",
     "output_type": "stream",
     "text": [
      "out.shape= torch.Size([3, 100, 64])\n"
     ]
    }
   ],
   "source": [
    "import torch\n",
    "import torch.nn as nn\n",
    "import torch.nn.functional as F\n",
    "\n",
    "class EdgeConv(nn.Module):\n",
    "    def __init__(self, in_channels, out_channels, num_neighbours=20,device=\"cpu\"):\n",
    "        \"\"\"Setup EdgeConv\n",
    "        Args:\n",
    "        in_channels: int\n",
    "        out_channels: int\n",
    "        num_neighbours: int\n",
    "        \"\"\"\n",
    "        super(EdgeConv, self).__init__()\n",
    "        self.device=device\n",
    "        self.k= num_neighbours\n",
    "        self.conv = nn.Sequential(\n",
    "            nn.Conv2d(in_channels=in_channels, out_channels=out_channels, kernel_size=1, bias=False,device=self.device),\n",
    "            nn.BatchNorm2d(out_channels,device=self.device),\n",
    "            nn.ReLU()\n",
    "        )\n",
    "\n",
    "    def forward(self,x):\n",
    "        \"\"\"Setup EdgeConv\n",
    "        Args:\n",
    "        x: shape - (batch_size, num_points, num_dims)\n",
    "\n",
    "        Returns:\n",
    "        features: (batch_size, num_dims, num_points, num_neigbours)\n",
    "        \"\"\"\n",
    "        x = get_edge_feature(x, k=self.k,device=self.device) #(batch_size, num_points, dim) -> (batch_size, dim*2, num_points ,k)\n",
    "        x = self.conv(x)\n",
    "        # for each point pick the largest k (batch_size, 64, num_points, k) -> (batch_size, 64, num_points)\n",
    "        x = x.max(dim=-1, keepdim=False)[0]\n",
    "        x = x.permute(0,2,1).contiguous()\n",
    "        return x\n",
    "    \n",
    "# Example usage:\n",
    "device = torch.device(\"cuda\" if torch.cuda.is_available() else \"cpu\")\n",
    "data = torch.rand((3,100, 3))  # 100 points in 20D (batch_size, num_points, num_dims)\n",
    "conv = EdgeConv(3, 64,device=device)\n",
    "out = conv(data)\n",
    "print(\"out.shape=\", out.shape)"
   ]
  },
  {
   "cell_type": "markdown",
   "id": "c0b9bd03",
   "metadata": {
    "papermill": {
     "duration": 0.004239,
     "end_time": "2024-04-02T06:32:38.353558",
     "exception": false,
     "start_time": "2024-04-02T06:32:38.349319",
     "status": "completed"
    },
    "tags": []
   },
   "source": [
    "### **DGCNN (Classification)**"
   ]
  },
  {
   "cell_type": "code",
   "execution_count": 4,
   "id": "8ec6c8f7",
   "metadata": {
    "execution": {
     "iopub.execute_input": "2024-04-02T06:32:38.362694Z",
     "iopub.status.busy": "2024-04-02T06:32:38.362390Z",
     "iopub.status.idle": "2024-04-02T06:32:38.503362Z",
     "shell.execute_reply": "2024-04-02T06:32:38.502166Z"
    },
    "papermill": {
     "duration": 0.147902,
     "end_time": "2024-04-02T06:32:38.505350",
     "exception": false,
     "start_time": "2024-04-02T06:32:38.357448",
     "status": "completed"
    },
    "tags": []
   },
   "outputs": [
    {
     "name": "stdout",
     "output_type": "stream",
     "text": [
      "data shape:  torch.Size([3, 100, 3])\n",
      "out.shape= torch.Size([3, 40])\n"
     ]
    }
   ],
   "source": [
    "class DGCNN(nn.Module):\n",
    "    def __init__(self, num_neighbours=20,out_channels=40,dropout_rate =0.3,device=\"cpu\"):\n",
    "        super(DGCNN,self).__init__()\n",
    "        self.edgeConv0 = EdgeConv(in_channels=3,out_channels=64,num_neighbours=num_neighbours,device=device)\n",
    "        self.edgeConv2 = EdgeConv(in_channels=64,out_channels=128,num_neighbours=num_neighbours,device=device)\n",
    "        self.edgeConv3 = EdgeConv(in_channels=128,out_channels=256,num_neighbours=num_neighbours,device=device)\n",
    "\n",
    "        self.edgeConv4 = EdgeConv(in_channels=448,out_channels=1024,num_neighbours=num_neighbours,device=device)\n",
    "\n",
    "        self.linear1 = nn.Linear(2048, 512, bias=False,device=device)\n",
    "        self.bn1 = nn.BatchNorm1d(512,device=device)\n",
    "        self.drop1 = nn.Dropout(dropout_rate)\n",
    "        self.linear2 = nn.Linear(512, 256, bias=False,device=device)\n",
    "        self.bn2 = nn.BatchNorm1d(256,device=device)\n",
    "        self.drop2 = nn.Dropout(dropout_rate)\n",
    "        self.linear3 = nn.Linear(256,out_channels, bias=False,device=device)\n",
    "\n",
    "\n",
    "    def forward(self,x):\n",
    "        x0=self.edgeConv0(x)\n",
    "        #print(\"x0:\",x0.shape)\n",
    "        #x1=self.edgeConv1(x0)\n",
    "        x2=self.edgeConv2(x0)\n",
    "        x3=self.edgeConv3(x2)\n",
    "\n",
    "        x=torch.cat((x0,x2,x3),dim=2)\n",
    "        \n",
    "        x= self.edgeConv4(x) # (batch_size, num_points ,64+64+128+256) -> (batch_size, num_points, emb_dims(1024))\n",
    "        \n",
    "        #todo \n",
    "        # maxpool and avgpool\n",
    "        x= x.permute(0,2,1).contiguous()\n",
    "        maxPoolX = F.adaptive_avg_pool1d(x,1).view(x.shape[0],-1)\n",
    "        avgPoolX = F.adaptive_avg_pool1d(x,1).view(x.shape[0],-1)\n",
    "        x=torch.cat((maxPoolX,avgPoolX),1) #(batch_size, 2048)\n",
    "        \n",
    "        #mlp[512,256,c(40)]\n",
    "        x= F.leaky_relu(self.bn1(self.linear1(x)))\n",
    "        x=self.drop1(x)\n",
    "        x= F.leaky_relu(self.bn2(self.linear2(x)))\n",
    "        x=self.drop2(x)\n",
    "        x= self.linear3(x)\n",
    "        # output\n",
    "\n",
    "        return x\n",
    "    \n",
    "# Example usage:\n",
    "device = torch.device(\"cuda\" if torch.cuda.is_available() else \"cpu\")\n",
    "data = torch.rand((3,100, 3))  # 100 points in 20D (batch_size, num_points, num_dims)\n",
    "print(\"data shape: \", data.shape)\n",
    "dgcnn = DGCNN(device=device)\n",
    "out = dgcnn(data)\n",
    "\n",
    "print(\"out.shape=\", out.shape)"
   ]
  },
  {
   "cell_type": "markdown",
   "id": "5042e3c4",
   "metadata": {
    "papermill": {
     "duration": 0.003907,
     "end_time": "2024-04-02T06:32:38.513384",
     "exception": false,
     "start_time": "2024-04-02T06:32:38.509477",
     "status": "completed"
    },
    "tags": []
   },
   "source": [
    "## Dataset Part"
   ]
  },
  {
   "cell_type": "code",
   "execution_count": 5,
   "id": "5e7ad2e4",
   "metadata": {
    "execution": {
     "iopub.execute_input": "2024-04-02T06:32:38.522941Z",
     "iopub.status.busy": "2024-04-02T06:32:38.522626Z",
     "iopub.status.idle": "2024-04-02T06:33:09.512915Z",
     "shell.execute_reply": "2024-04-02T06:33:09.511925Z"
    },
    "papermill": {
     "duration": 30.997689,
     "end_time": "2024-04-02T06:33:09.515001",
     "exception": false,
     "start_time": "2024-04-02T06:32:38.517312",
     "status": "completed"
    },
    "tags": []
   },
   "outputs": [
    {
     "name": "stdout",
     "output_type": "stream",
     "text": [
      "False\n"
     ]
    },
    {
     "name": "stderr",
     "output_type": "stream",
     "text": [
      "WARNING: cannot verify shapenet.cs.stanford.edu's certificate, issued by 'CN=InCommon RSA Server CA,OU=InCommon,O=Internet2,L=Ann Arbor,ST=MI,C=US':\n",
      "  Issued certificate has expired.\n",
      "2024-04-02 06:33:03 URL:https://shapenet.cs.stanford.edu/media/modelnet40_ply_hdf5_2048.zip [435212151/435212151] -> \"modelnet40_ply_hdf5_2048.zip\" [1]\n"
     ]
    },
    {
     "name": "stdout",
     "output_type": "stream",
     "text": [
      "Archive:  modelnet40_ply_hdf5_2048.zip\n",
      "   creating: modelnet40_ply_hdf5_2048/\n",
      "  inflating: modelnet40_ply_hdf5_2048/ply_data_train_2_id2file.json  \n",
      "  inflating: modelnet40_ply_hdf5_2048/ply_data_train2.h5  \n",
      "  inflating: modelnet40_ply_hdf5_2048/ply_data_train4.h5  \n",
      "  inflating: modelnet40_ply_hdf5_2048/ply_data_train1.h5  \n",
      "  inflating: modelnet40_ply_hdf5_2048/train_files.txt  \n",
      "  inflating: modelnet40_ply_hdf5_2048/ply_data_train_4_id2file.json  \n",
      "  inflating: modelnet40_ply_hdf5_2048/ply_data_test1.h5  \n",
      "  inflating: modelnet40_ply_hdf5_2048/ply_data_test0.h5  \n",
      "  inflating: modelnet40_ply_hdf5_2048/ply_data_test_1_id2file.json  \n",
      "  inflating: modelnet40_ply_hdf5_2048/ply_data_train_1_id2file.json  \n",
      "  inflating: modelnet40_ply_hdf5_2048/ply_data_train_0_id2file.json  \n",
      "  inflating: modelnet40_ply_hdf5_2048/test_files.txt  \n",
      "  inflating: modelnet40_ply_hdf5_2048/ply_data_train0.h5  \n",
      "  inflating: modelnet40_ply_hdf5_2048/ply_data_test_0_id2file.json  \n",
      "  inflating: modelnet40_ply_hdf5_2048/shape_names.txt  \n",
      "  inflating: modelnet40_ply_hdf5_2048/ply_data_train3.h5  \n",
      "  inflating: modelnet40_ply_hdf5_2048/ply_data_train_3_id2file.json  \n",
      "True\n",
      "(1024, 3)\n",
      "(1,)\n"
     ]
    }
   ],
   "source": [
    "#todo DataSet -> use mobilenet 40\n",
    "\n",
    "import os\n",
    "import glob\n",
    "import h5py\n",
    "import numpy as np\n",
    "from torch.utils.data import Dataset\n",
    "\n",
    "def download_modelnet40():\n",
    "    BASE_DIR = os.getcwd()\n",
    "    DATA_DIR = os.path.join(BASE_DIR, 'data')\n",
    "    print(os.path.exists(os.path.join(DATA_DIR, 'modelnet40_ply_hdf5_2048')))\n",
    "    if not os.path.exists(DATA_DIR):\n",
    "        os.mkdir(DATA_DIR)\n",
    "    if not os.path.exists(os.path.join(DATA_DIR, 'modelnet40_ply_hdf5_2048')):\n",
    "        www = 'https://shapenet.cs.stanford.edu/media/modelnet40_ply_hdf5_2048.zip'\n",
    "        zipfile = os.path.basename(www)\n",
    "        os.system('wget --no-verbose --no-check-certificate %s; unzip %s' % (www, zipfile))\n",
    "        os.system('mv %s %s' % ('modelnet40_ply_hdf5_2048', DATA_DIR))\n",
    "        os.system('rm %s' % (zipfile))\n",
    "\n",
    "def load_data_cls(partition):\n",
    "    download_modelnet40()\n",
    "    BASE_DIR = os.getcwd()\n",
    "    DATA_DIR = os.path.join(BASE_DIR, 'data')\n",
    "    all_data = []\n",
    "    all_label = []\n",
    "    for h5_name in glob.glob(os.path.join(DATA_DIR, 'modelnet40_ply_hdf5_2048', '*%s*.h5'%partition)):\n",
    "        f = h5py.File(h5_name, 'r+')\n",
    "        data = f['data'][:].astype('float32')\n",
    "        label = f['label'][:].astype('int64')\n",
    "        f.close()\n",
    "        all_data.append(data)\n",
    "        all_label.append(label)\n",
    "    all_data = np.concatenate(all_data, axis=0)\n",
    "    all_label = np.concatenate(all_label, axis=0)\n",
    "    return all_data, all_label\n",
    "\n",
    "def translate_pointcloud(pointcloud):\n",
    "    xyz1 = np.random.uniform(low=2./3., high=3./2., size=[3])\n",
    "    xyz2 = np.random.uniform(low=-0.2, high=0.2, size=[3])\n",
    "       \n",
    "    translated_pointcloud = np.add(np.multiply(pointcloud, xyz1), xyz2).astype('float32')\n",
    "    return translated_pointcloud\n",
    "\n",
    "class ModelNet40(Dataset):\n",
    "    def __init__(self, num_points, partition='train'):\n",
    "        self.data, self.label = load_data_cls(partition)\n",
    "        self.num_points = num_points\n",
    "        self.partition = partition        \n",
    "\n",
    "    def __getitem__(self, item):\n",
    "        pointcloud = self.data[item][:self.num_points]\n",
    "        label = self.label[item]\n",
    "        if self.partition == 'train':\n",
    "            pointcloud = translate_pointcloud(pointcloud)\n",
    "            np.random.shuffle(pointcloud)\n",
    "        return pointcloud, label\n",
    "\n",
    "    def __len__(self):\n",
    "        return self.data.shape[0]\n",
    "    \n",
    "# use like this\n",
    "train = ModelNet40(1024)\n",
    "test = ModelNet40(1024, 'test')\n",
    "data, label = train[0]\n",
    "print(data.shape)\n",
    "print(label.shape)"
   ]
  },
  {
   "cell_type": "markdown",
   "id": "2038bdfd",
   "metadata": {
    "papermill": {
     "duration": 0.004833,
     "end_time": "2024-04-02T06:33:09.525085",
     "exception": false,
     "start_time": "2024-04-02T06:33:09.520252",
     "status": "completed"
    },
    "tags": []
   },
   "source": [
    "## Training part"
   ]
  },
  {
   "cell_type": "code",
   "execution_count": 6,
   "id": "b56e4851",
   "metadata": {
    "execution": {
     "iopub.execute_input": "2024-04-02T06:33:09.536313Z",
     "iopub.status.busy": "2024-04-02T06:33:09.536038Z",
     "iopub.status.idle": "2024-04-02T10:25:49.822082Z",
     "shell.execute_reply": "2024-04-02T10:25:49.820976Z"
    },
    "papermill": {
     "duration": 13960.294232,
     "end_time": "2024-04-02T10:25:49.824159",
     "exception": false,
     "start_time": "2024-04-02T06:33:09.529927",
     "status": "completed"
    },
    "tags": []
   },
   "outputs": [
    {
     "name": "stdout",
     "output_type": "stream",
     "text": [
      "True\n",
      "True\n",
      "Train 0, loss: 2.284877, train acc: 0.602846, train avg acc: 0.440787\n",
      "Test 0, loss: 2.821893, test acc: 0.414911, test avg acc: 0.364529\n",
      "Train 1, loss: 1.983812, train acc: 0.727033, train avg acc: 0.606638\n",
      "Test 1, loss: 2.813366, test acc: 0.412885, test avg acc: 0.355273\n",
      "Train 2, loss: 1.913552, train acc: 0.758028, train avg acc: 0.645493\n",
      "Test 2, loss: 2.411693, test acc: 0.548622, test avg acc: 0.464308\n",
      "Train 3, loss: 1.861536, train acc: 0.779776, train avg acc: 0.680780\n",
      "Test 3, loss: 2.610739, test acc: 0.527958, test avg acc: 0.456413\n",
      "Train 4, loss: 1.843334, train acc: 0.787195, train avg acc: 0.687022\n",
      "Test 4, loss: 2.720871, test acc: 0.389384, test avg acc: 0.371680\n",
      "Train 5, loss: 1.820294, train acc: 0.795732, train avg acc: 0.700816\n",
      "Test 5, loss: 2.436499, test acc: 0.554295, test avg acc: 0.493122\n",
      "Train 6, loss: 1.803272, train acc: 0.803760, train avg acc: 0.717035\n",
      "Test 6, loss: 2.245830, test acc: 0.602512, test avg acc: 0.543866\n",
      "Train 7, loss: 1.794471, train acc: 0.807114, train avg acc: 0.721992\n",
      "Test 7, loss: 2.246613, test acc: 0.592788, test avg acc: 0.545762\n",
      "Train 8, loss: 1.778401, train acc: 0.811585, train avg acc: 0.725705\n",
      "Test 8, loss: 2.423758, test acc: 0.578201, test avg acc: 0.533349\n",
      "Train 9, loss: 1.764543, train acc: 0.823882, train avg acc: 0.742036\n",
      "Test 9, loss: 2.397433, test acc: 0.523501, test avg acc: 0.502099\n",
      "Train 10, loss: 1.766448, train acc: 0.817581, train avg acc: 0.734310\n",
      "Test 10, loss: 2.544305, test acc: 0.480146, test avg acc: 0.421372\n",
      "Train 11, loss: 1.748723, train acc: 0.828862, train avg acc: 0.746558\n",
      "Test 11, loss: 2.095354, test acc: 0.726499, test avg acc: 0.654099\n",
      "Train 12, loss: 1.741246, train acc: 0.827744, train avg acc: 0.747013\n",
      "Test 12, loss: 2.044071, test acc: 0.737439, test avg acc: 0.682564\n",
      "Train 13, loss: 1.744110, train acc: 0.831606, train avg acc: 0.758755\n",
      "Test 13, loss: 2.256915, test acc: 0.664911, test avg acc: 0.612547\n",
      "Train 14, loss: 1.729465, train acc: 0.834756, train avg acc: 0.755554\n",
      "Test 14, loss: 2.015377, test acc: 0.762561, test avg acc: 0.714500\n",
      "Train 15, loss: 1.726381, train acc: 0.836687, train avg acc: 0.762330\n",
      "Test 15, loss: 1.965756, test acc: 0.747569, test avg acc: 0.664517\n",
      "Train 16, loss: 1.721470, train acc: 0.838008, train avg acc: 0.757664\n",
      "Test 16, loss: 2.437570, test acc: 0.549028, test avg acc: 0.525012\n",
      "Train 17, loss: 1.718535, train acc: 0.841362, train avg acc: 0.765761\n",
      "Test 17, loss: 2.030372, test acc: 0.721637, test avg acc: 0.656948\n",
      "Train 18, loss: 1.718412, train acc: 0.841667, train avg acc: 0.761894\n",
      "Test 18, loss: 1.951292, test acc: 0.781605, test avg acc: 0.716360\n",
      "Train 19, loss: 1.711991, train acc: 0.846240, train avg acc: 0.770349\n",
      "Test 19, loss: 1.895192, test acc: 0.756483, test avg acc: 0.704680\n",
      "Train 20, loss: 1.703432, train acc: 0.845935, train avg acc: 0.773075\n",
      "Test 20, loss: 1.969914, test acc: 0.734198, test avg acc: 0.680703\n",
      "Train 21, loss: 1.703731, train acc: 0.846748, train avg acc: 0.772855\n",
      "Test 21, loss: 2.151884, test acc: 0.712318, test avg acc: 0.610762\n",
      "Train 22, loss: 1.700726, train acc: 0.844004, train avg acc: 0.771863\n",
      "Test 22, loss: 1.977576, test acc: 0.722042, test avg acc: 0.667209\n",
      "Train 23, loss: 1.702206, train acc: 0.846545, train avg acc: 0.774987\n",
      "Test 23, loss: 2.083970, test acc: 0.695705, test avg acc: 0.642023\n",
      "Train 24, loss: 1.703181, train acc: 0.846646, train avg acc: 0.778197\n",
      "Test 24, loss: 1.919362, test acc: 0.744327, test avg acc: 0.702622\n",
      "Train 25, loss: 1.703934, train acc: 0.845122, train avg acc: 0.772337\n",
      "Test 25, loss: 1.909669, test acc: 0.795381, test avg acc: 0.725401\n",
      "Train 26, loss: 1.701862, train acc: 0.845528, train avg acc: 0.772197\n",
      "Test 26, loss: 2.095053, test acc: 0.679092, test avg acc: 0.616948\n",
      "Train 27, loss: 1.694956, train acc: 0.849695, train avg acc: 0.779354\n",
      "Test 27, loss: 2.031862, test acc: 0.741896, test avg acc: 0.700884\n",
      "Train 28, loss: 1.696757, train acc: 0.845732, train avg acc: 0.775953\n",
      "Test 28, loss: 1.868209, test acc: 0.810778, test avg acc: 0.755250\n",
      "Train 29, loss: 1.694526, train acc: 0.852947, train avg acc: 0.782982\n",
      "Test 29, loss: 1.870883, test acc: 0.779579, test avg acc: 0.749773\n",
      "Train 30, loss: 1.677027, train acc: 0.855589, train avg acc: 0.787077\n",
      "Test 30, loss: 1.833082, test acc: 0.814425, test avg acc: 0.765820\n",
      "Train 31, loss: 1.692757, train acc: 0.853455, train avg acc: 0.781015\n",
      "Test 31, loss: 1.859942, test acc: 0.791734, test avg acc: 0.740529\n",
      "Train 32, loss: 1.687439, train acc: 0.850508, train avg acc: 0.777364\n",
      "Test 32, loss: 2.134935, test acc: 0.695705, test avg acc: 0.645453\n",
      "Train 33, loss: 1.684826, train acc: 0.853659, train avg acc: 0.786246\n",
      "Test 33, loss: 1.873929, test acc: 0.784036, test avg acc: 0.726128\n",
      "Train 34, loss: 1.686134, train acc: 0.853659, train avg acc: 0.784424\n",
      "Test 34, loss: 1.805812, test acc: 0.798217, test avg acc: 0.749099\n",
      "Train 35, loss: 1.678675, train acc: 0.856707, train avg acc: 0.791271\n",
      "Test 35, loss: 1.776426, test acc: 0.816856, test avg acc: 0.770709\n",
      "Train 36, loss: 1.685431, train acc: 0.850813, train avg acc: 0.779176\n",
      "Test 36, loss: 1.836813, test acc: 0.788493, test avg acc: 0.728971\n",
      "Train 37, loss: 1.685551, train acc: 0.851829, train avg acc: 0.785588\n",
      "Test 37, loss: 1.868579, test acc: 0.794976, test avg acc: 0.735157\n",
      "Train 38, loss: 1.684739, train acc: 0.852236, train avg acc: 0.784465\n",
      "Test 38, loss: 1.827642, test acc: 0.799028, test avg acc: 0.743558\n",
      "Train 39, loss: 1.680335, train acc: 0.857317, train avg acc: 0.791309\n",
      "Test 39, loss: 1.766168, test acc: 0.838736, test avg acc: 0.778483\n",
      "Train 40, loss: 1.682209, train acc: 0.854675, train avg acc: 0.786270\n",
      "Test 40, loss: 1.802950, test acc: 0.797002, test avg acc: 0.733785\n",
      "Train 41, loss: 1.678188, train acc: 0.856606, train avg acc: 0.788697\n",
      "Test 41, loss: 1.742964, test acc: 0.831037, test avg acc: 0.797814\n",
      "Train 42, loss: 1.670978, train acc: 0.861280, train avg acc: 0.795734\n",
      "Test 42, loss: 1.952578, test acc: 0.754862, test avg acc: 0.723192\n",
      "Train 43, loss: 1.674792, train acc: 0.856301, train avg acc: 0.788158\n",
      "Test 43, loss: 1.675904, test acc: 0.846434, test avg acc: 0.791855\n",
      "Train 44, loss: 1.673121, train acc: 0.860366, train avg acc: 0.796962\n",
      "Test 44, loss: 1.871986, test acc: 0.784036, test avg acc: 0.732779\n",
      "Train 45, loss: 1.673712, train acc: 0.862093, train avg acc: 0.797442\n",
      "Test 45, loss: 1.849109, test acc: 0.787277, test avg acc: 0.740169\n",
      "Train 46, loss: 1.668257, train acc: 0.863516, train avg acc: 0.796147\n",
      "Test 46, loss: 1.709062, test acc: 0.848460, test avg acc: 0.794901\n",
      "Train 47, loss: 1.662171, train acc: 0.864736, train avg acc: 0.803983\n",
      "Test 47, loss: 1.688302, test acc: 0.838331, test avg acc: 0.768413\n",
      "Train 48, loss: 1.668326, train acc: 0.861890, train avg acc: 0.797031\n",
      "Test 48, loss: 1.814165, test acc: 0.803079, test avg acc: 0.759174\n",
      "Train 49, loss: 1.666422, train acc: 0.864126, train avg acc: 0.800493\n",
      "Test 49, loss: 1.851291, test acc: 0.799433, test avg acc: 0.750709\n"
     ]
    },
    {
     "data": {
      "text/plain": [
       "0"
      ]
     },
     "execution_count": 6,
     "metadata": {},
     "output_type": "execute_result"
    }
   ],
   "source": [
    "#todo , not finish \n",
    "from torch.utils.data import DataLoader\n",
    "import os\n",
    "import torch.optim as optim\n",
    "from torch.optim.lr_scheduler import CosineAnnealingLR\n",
    "import sklearn.metrics as metrics\n",
    "def cal_loss(pred, gold, smoothing=True):\n",
    "    ''' Calculate cross entropy loss, apply label smoothing if needed. '''\n",
    "\n",
    "    gold = gold.contiguous().view(-1)\n",
    "\n",
    "    if smoothing:\n",
    "        eps = 0.2\n",
    "        n_class = pred.size(1)\n",
    "\n",
    "        one_hot = torch.zeros_like(pred).scatter(1, gold.view(-1, 1), 1)\n",
    "        one_hot = one_hot * (1 - eps) + (1 - one_hot) * eps / (n_class - 1)\n",
    "        log_prb = F.log_softmax(pred, dim=1)\n",
    "\n",
    "        loss = -(one_hot * log_prb).sum(dim=1).mean()\n",
    "    else:\n",
    "        loss = F.cross_entropy(pred, gold, reduction='mean')\n",
    "\n",
    "    return loss\n",
    "def train(model, epochs, _lr, numPoints,batchSize,device):\n",
    "    \"\"\"train\n",
    "        Args:\n",
    "        model: classifier\n",
    "        dataset: shape(batch_size,nums_point,dimemsion)\n",
    "        optimizerSelect:1 for SGD, 0 for Adam\n",
    "        epochs:train epochs\n",
    "        device:\n",
    "    \"\"\"\n",
    "    train_loader = DataLoader(ModelNet40(partition='train', num_points=numPoints), num_workers=4,\n",
    "                              batch_size=batchSize, shuffle=True, drop_last=True)\n",
    "    test_loader = DataLoader(ModelNet40(partition='test', num_points=numPoints), num_workers=4,\n",
    "                             batch_size=batchSize, shuffle=True, drop_last=False)\n",
    "\n",
    "\n",
    "    #Try to load models\n",
    "    model = nn.DataParallel(model)\n",
    "    opt = optim.Adam(model.parameters(), lr=_lr, weight_decay=1e-4)\n",
    "    scheduler = CosineAnnealingLR(opt, epochs, eta_min=_lr)\n",
    "    criterion = cal_loss\n",
    "    best_test_acc = 0\n",
    "    for epoch in range(epochs):\n",
    "        ####################\n",
    "        # Train\n",
    "        ####################\n",
    "        \n",
    "        train_loss = 0.0\n",
    "        count = 0.0\n",
    "        model.train()\n",
    "        train_pred = []\n",
    "        train_true = []\n",
    "        for data, label in train_loader:\n",
    "\n",
    "            data, label = data.to(device), label.to(device).squeeze()\n",
    "\n",
    "            batch_size = data.size()[0]\n",
    "            opt.zero_grad()\n",
    "            logits = model(data)\n",
    "            loss = criterion(logits, label)\n",
    "            loss.backward()\n",
    "            opt.step()\n",
    "            preds = logits.max(dim=1)[1]\n",
    "            count += batch_size\n",
    "            train_loss += loss.item() * batch_size\n",
    "            train_true.append(label.cpu().numpy())\n",
    "            train_pred.append(preds.detach().cpu().numpy())\n",
    "        \n",
    "        scheduler.step()\n",
    "        train_true = np.concatenate(train_true)\n",
    "        train_pred = np.concatenate(train_pred)\n",
    "        outstr = 'Train %d, loss: %.6f, train acc: %.6f, train avg acc: %.6f' % (epoch, train_loss*1.0/count, metrics.accuracy_score\n",
    "                                                    (train_true, train_pred),metrics.balanced_accuracy_score\n",
    "                                                    (train_true, train_pred))\n",
    "    \n",
    "        print(outstr)\n",
    "\n",
    "        ####################\n",
    "        # Test\n",
    "        ####################\n",
    "        test_loss = 0.0\n",
    "        count = 0.0\n",
    "        model.eval()\n",
    "        test_pred = []\n",
    "        test_true = []\n",
    "        for data, label in test_loader:\n",
    "            data, label = data.to(device), label.to(device).squeeze()\n",
    "            batch_size = data.size()[0]\n",
    "            logits = model(data)\n",
    "            loss = criterion(logits, label)\n",
    "            preds = logits.max(dim=1)[1]\n",
    "            count += batch_size\n",
    "            test_loss += loss.item() * batch_size\n",
    "            test_true.append(label.cpu().numpy())\n",
    "            test_pred.append(preds.detach().cpu().numpy())\n",
    "\n",
    "        test_true = np.concatenate(test_true)\n",
    "        test_pred = np.concatenate(test_pred)\n",
    "        test_acc = metrics.accuracy_score(test_true, test_pred)\n",
    "        avg_per_class_acc = metrics.balanced_accuracy_score(test_true, test_pred)\n",
    "        outstr = 'Test %d, loss: %.6f, test acc: %.6f, test avg acc: %.6f' % (epoch,test_loss*1.0/count,test_acc,avg_per_class_acc)\n",
    "        print(outstr)\n",
    "        if test_acc >= best_test_acc:\n",
    "            best_test_acc = test_acc\n",
    "            BASE_DIR = os.getcwd()\n",
    "            DATA_DIR = os.path.join(BASE_DIR, 'checkpoints')\n",
    "            if not os.path.exists(DATA_DIR):\n",
    "                os.mkdir(DATA_DIR)\n",
    "                os.mkdir(os.path.join(DATA_DIR, 'models'))\n",
    "            torch.save(model.state_dict(), 'checkpoints/models/model.t7')    \n",
    "    \n",
    "    \n",
    "    return 0\n",
    "\n",
    "device = torch.device(\"cuda\" if torch.cuda.is_available() else \"cpu\")\n",
    "model=DGCNN(device=device).to(device)\n",
    "train(model,50,0.001,1024,8,device)"
   ]
  },
  {
   "cell_type": "markdown",
   "id": "899bb947",
   "metadata": {
    "papermill": {
     "duration": 0.012773,
     "end_time": "2024-04-02T10:25:49.850218",
     "exception": false,
     "start_time": "2024-04-02T10:25:49.837445",
     "status": "completed"
    },
    "tags": []
   },
   "source": [
    "## Run Code"
   ]
  },
  {
   "cell_type": "code",
   "execution_count": 7,
   "id": "6b2b566a",
   "metadata": {
    "execution": {
     "iopub.execute_input": "2024-04-02T10:25:49.878951Z",
     "iopub.status.busy": "2024-04-02T10:25:49.877621Z",
     "iopub.status.idle": "2024-04-02T10:25:49.882555Z",
     "shell.execute_reply": "2024-04-02T10:25:49.881661Z"
    },
    "papermill": {
     "duration": 0.021249,
     "end_time": "2024-04-02T10:25:49.884482",
     "exception": false,
     "start_time": "2024-04-02T10:25:49.863233",
     "status": "completed"
    },
    "tags": []
   },
   "outputs": [],
   "source": [
    "## Excute DGCNN\n"
   ]
  }
 ],
 "metadata": {
  "kaggle": {
   "accelerator": "gpu",
   "dataSources": [],
   "dockerImageVersionId": 30673,
   "isGpuEnabled": true,
   "isInternetEnabled": true,
   "language": "python",
   "sourceType": "notebook"
  },
  "kernelspec": {
   "display_name": "Python 3",
   "language": "python",
   "name": "python3"
  },
  "language_info": {
   "codemirror_mode": {
    "name": "ipython",
    "version": 3
   },
   "file_extension": ".py",
   "mimetype": "text/x-python",
   "name": "python",
   "nbconvert_exporter": "python",
   "pygments_lexer": "ipython3",
   "version": "3.10.13"
  },
  "papermill": {
   "default_parameters": {},
   "duration": 14001.461147,
   "end_time": "2024-04-02T10:25:52.494073",
   "environment_variables": {},
   "exception": null,
   "input_path": "__notebook__.ipynb",
   "output_path": "__notebook__.ipynb",
   "parameters": {},
   "start_time": "2024-04-02T06:32:31.032926",
   "version": "2.5.0"
  }
 },
 "nbformat": 4,
 "nbformat_minor": 5
}
